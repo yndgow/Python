{
 "cells": [
  {
   "attachments": {},
   "cell_type": "markdown",
   "metadata": {},
   "source": [
    "\"\"\"\n",
    "날짜 : 2023/01/10\n",
    "이름 : 김지홍\n",
    "내용 : 파이썬 함수 실습하기\n",
    "\"\"\""
   ]
  },
  {
   "cell_type": "code",
   "execution_count": 1,
   "metadata": {},
   "outputs": [
    {
     "name": "stdout",
     "output_type": "stream",
     "text": [
      "y1 :  5\n",
      "y2 :  7\n",
      "y3 :  9\n"
     ]
    }
   ],
   "source": [
    "# 함수\n",
    "def f(x):\n",
    "    y = 2 * x + 3\n",
    "    return y\n",
    "\n",
    "y1 = f(1)\n",
    "y2 = f(2)\n",
    "y3 = f(3)\n",
    "\n",
    "print('y1 : ', y1)\n",
    "print('y2 : ', y2)\n",
    "print('y3 : ', y3)"
   ]
  },
  {
   "cell_type": "code",
   "execution_count": 8,
   "metadata": {},
   "outputs": [
    {
     "name": "stdout",
     "output_type": "stream",
     "text": [
      "rs1 :  3\n",
      "rs2 :  helloworld\n",
      "dataset 합 :  15\n",
      "dataset 합 :  25\n",
      "total :  55\n"
     ]
    }
   ],
   "source": [
    "# 함수타입\n",
    "def type1(x, y):\n",
    "    z = x + y\n",
    "    return z\n",
    "\n",
    "def type2(dataset):\n",
    "    tot = 0\n",
    "    for data in dataset:\n",
    "        tot += data\n",
    "    print('dataset 합 : ', tot)\n",
    "\n",
    "def type3():\n",
    "    dataset = [n for n in range(11)]\n",
    "    tot = 0\n",
    "    for k in dataset:\n",
    "        tot += k\n",
    "    return tot\n",
    "\n",
    "rs1 = type1(1,2)\n",
    "rs2 = type1('hello', 'world')\n",
    "\n",
    "print('rs1 : ', rs1)\n",
    "print('rs2 : ', rs2)\n",
    "\n",
    "type2([1,2,3,4,5])\n",
    "type2([1,3,5,7,9])\n",
    "\n",
    "total = type3()\n",
    "print('total : ', total)"
   ]
  },
  {
   "cell_type": "code",
   "execution_count": 9,
   "metadata": {},
   "outputs": [
    {
     "name": "stdout",
     "output_type": "stream",
     "text": [
      "name :  홍길동\n",
      "age :  20\n",
      "name :  김유신\n",
      "age :  20\n",
      "name :  김춘추\n",
      "age :  21\n"
     ]
    }
   ],
   "source": [
    "# 디폴트 매개변수\n",
    "def hello(name='홍길동', age=20):\n",
    "    print('name : ', name)\n",
    "    print('age : ', age)\n",
    "    \n",
    "hello()\n",
    "hello('김유신')\n",
    "hello('김춘추', 21)"
   ]
  },
  {
   "cell_type": "code",
   "execution_count": 10,
   "metadata": {},
   "outputs": [
    {
     "name": "stdout",
     "output_type": "stream",
     "text": [
      "r1 :  1\n",
      "r1 :  3\n",
      "r1 :  6\n",
      "r1 :  10\n",
      "r1 :  15\n"
     ]
    }
   ],
   "source": [
    "# 가변 매개변수\n",
    "def total(*item):\n",
    "    tot = 0\n",
    "    for i in item:\n",
    "        tot += i\n",
    "    return tot\n",
    "\n",
    "rs1 = total(1)\n",
    "rs2 = total(1,2)\n",
    "rs3 = total(1,2,3)\n",
    "rs4 = total(1,2,3,4)\n",
    "rs5 = total(1,2,3,4,5)\n",
    "\n",
    "print('r1 : ', rs1)\n",
    "print('r1 : ', rs2)\n",
    "print('r1 : ', rs3)\n",
    "print('r1 : ', rs4)\n",
    "print('r1 : ', rs5)"
   ]
  },
  {
   "cell_type": "code",
   "execution_count": 12,
   "metadata": {},
   "outputs": [
    {
     "name": "stdout",
     "output_type": "stream",
     "text": [
      "3\n",
      "2\n"
     ]
    }
   ],
   "source": [
    "# 하나 이상의 리턴값을 갖는 함수\n",
    "def sumMulti(x, y):\n",
    "    y1 = x + y\n",
    "    y2 = x * y\n",
    "    return y1, y2\n",
    "\n",
    "r1, r2 = sumMulti(1,2)\n",
    "print(r1)\n",
    "print(r2)"
   ]
  },
  {
   "cell_type": "code",
   "execution_count": 17,
   "metadata": {},
   "outputs": [
    {
     "name": "stdout",
     "output_type": "stream",
     "text": [
      "r1 :  3\n",
      "r2 :  -1\n",
      "y1 :  5\n",
      "y2 :  2\n"
     ]
    }
   ],
   "source": [
    "# 변수에 저장하는 함수\n",
    "def plus(x,y):\n",
    "    return x + y\n",
    "def minus(x,y):\n",
    "    return x - y\n",
    "var1 = plus\n",
    "var2 = minus\n",
    "\n",
    "r1 = var1(1,2)\n",
    "r2 = var2(2,3)\n",
    "\n",
    "print('r1 : ', r1)\n",
    "print('r2 : ', r2)\n",
    "\n",
    "defs = [plus , minus]\n",
    "y1 = defs[0](2,3)\n",
    "y2 = defs[1](3,1)\n",
    "\n",
    "print('y1 : ', y1)\n",
    "print('y2 : ', y2)\n"
   ]
  },
  {
   "cell_type": "code",
   "execution_count": 18,
   "metadata": {},
   "outputs": [
    {
     "name": "stdout",
     "output_type": "stream",
     "text": [
      "3\n",
      "-1\n"
     ]
    }
   ],
   "source": [
    "# 람다함수\n",
    "lamb1 = lambda x, y : x + y\n",
    "lamb2 = lambda x, y : x - y\n",
    "r1 = lamb1(1, 2)\n",
    "r2 = lamb2(2,3)\n",
    "print(r1)\n",
    "print(r2)"
   ]
  }
 ],
 "metadata": {
  "kernelspec": {
   "display_name": "Python 3",
   "language": "python",
   "name": "python3"
  },
  "language_info": {
   "codemirror_mode": {
    "name": "ipython",
    "version": 3
   },
   "file_extension": ".py",
   "mimetype": "text/x-python",
   "name": "python",
   "nbconvert_exporter": "python",
   "pygments_lexer": "ipython3",
   "version": "3.11.1"
  },
  "orig_nbformat": 4,
  "vscode": {
   "interpreter": {
    "hash": "ca3167030a8377a7b82d5e665b459d458267ba920e721652be188ae573e682bb"
   }
  }
 },
 "nbformat": 4,
 "nbformat_minor": 2
}
