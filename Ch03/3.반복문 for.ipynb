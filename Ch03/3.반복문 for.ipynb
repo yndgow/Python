{
 "cells": [
  {
   "attachments": {},
   "cell_type": "markdown",
   "metadata": {},
   "source": [
    "날짜 : 2023/01/03\n",
    "이름 : 김지홍\n",
    "내용 : 파이썬 반복문 for 실습하기"
   ]
  },
  {
   "cell_type": "code",
   "execution_count": null,
   "metadata": {},
   "outputs": [],
   "source": [
    "# for\n",
    "for i in range(5):\n",
    "    print('i :', i)\n",
    "\n",
    "for j in range(10, 20):\n",
    "    print('j :', j)\n",
    "    \n",
    "for k in range(10, 0, -1):\n",
    "    print('k :', k)\n"
   ]
  },
  {
   "cell_type": "code",
   "execution_count": null,
   "metadata": {},
   "outputs": [],
   "source": [
    "# 1부터 10까지 합\n",
    "total = 0\n",
    "for i in range(11):\n",
    "    total += i\n",
    "print(total)"
   ]
  },
  {
   "cell_type": "code",
   "execution_count": null,
   "metadata": {},
   "outputs": [],
   "source": [
    "# 1부터 10까지 짝수 합\n",
    "total = 0\n",
    "for i in range(11):\n",
    "    if i % 2 == 0:\n",
    "        total += i    \n",
    "print(total)"
   ]
  },
  {
   "cell_type": "code",
   "execution_count": 7,
   "metadata": {},
   "outputs": [
    {
     "name": "stdout",
     "output_type": "stream",
     "text": [
      "a : 0\n",
      "b : 0\n",
      "b : 1\n",
      "b : 2\n",
      "a : 1\n",
      "b : 0\n",
      "b : 1\n",
      "b : 2\n"
     ]
    }
   ],
   "source": [
    "# 중첩 for \n",
    "for a in range(2):\n",
    "    print('a :', a)\n",
    "    for b in range(3):\n",
    "        print('b :', b)"
   ]
  },
  {
   "cell_type": "code",
   "execution_count": null,
   "metadata": {},
   "outputs": [],
   "source": [
    "# 구구단 출력\n",
    "for x in range(2,10):\n",
    "    for y in range(1,10):\n",
    "        print('{} X {} = {}'.format(x, y, x*y), end=\" \")\n",
    "    print()"
   ]
  },
  {
   "cell_type": "code",
   "execution_count": 20,
   "metadata": {},
   "outputs": [
    {
     "name": "stdout",
     "output_type": "stream",
     "text": [
      "☆\n",
      "☆☆\n",
      "☆☆☆\n",
      "☆☆☆☆\n",
      "☆☆☆☆☆\n",
      "☆☆☆☆☆☆\n",
      "☆☆☆☆☆☆☆\n",
      "☆☆☆☆☆☆☆☆\n",
      "☆☆☆☆☆☆☆☆☆\n",
      "☆☆☆☆☆☆☆☆☆☆\n"
     ]
    }
   ],
   "source": [
    "# 별 삼각형\n",
    "for start in range(1, 11):\n",
    "    for end in range(start):\n",
    "        print('☆', end='')\n",
    "    print()"
   ]
  },
  {
   "cell_type": "code",
   "execution_count": 21,
   "metadata": {},
   "outputs": [
    {
     "name": "stdout",
     "output_type": "stream",
     "text": [
      "\n",
      "★\n",
      "★★\n",
      "★★★\n",
      "★★★★\n",
      "★★★★★\n",
      "★★★★★★\n",
      "★★★★★★★\n",
      "★★★★★★★★\n",
      "★★★★★★★★★\n",
      "★★★★★★★★★★\n"
     ]
    }
   ],
   "source": [
    "# 별 삼각형2 문자열 곱하기\n",
    "for i in range(11):\n",
    "    print('★' * i)\n"
   ]
  }
 ],
 "metadata": {
  "kernelspec": {
   "display_name": "Python 3",
   "language": "python",
   "name": "python3"
  },
  "language_info": {
   "codemirror_mode": {
    "name": "ipython",
    "version": 3
   },
   "file_extension": ".py",
   "mimetype": "text/x-python",
   "name": "python",
   "nbconvert_exporter": "python",
   "pygments_lexer": "ipython3",
   "version": "3.11.1"
  },
  "orig_nbformat": 4,
  "vscode": {
   "interpreter": {
    "hash": "ca3167030a8377a7b82d5e665b459d458267ba920e721652be188ae573e682bb"
   }
  }
 },
 "nbformat": 4,
 "nbformat_minor": 2
}
