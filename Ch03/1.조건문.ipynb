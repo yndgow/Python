{
 "cells": [
  {
   "attachments": {},
   "cell_type": "markdown",
   "metadata": {},
   "source": [
    "\"\"\"\n",
    "날짜 : 2023/01/03\n",
    "이름 : 김지홍\n",
    "내용 : 파이썬 조건문 실습하기\n",
    "\"\"\""
   ]
  },
  {
   "cell_type": "code",
   "execution_count": 2,
   "metadata": {},
   "outputs": [
    {
     "name": "stdout",
     "output_type": "stream",
     "text": [
      "num1은 0 보다 크다\n",
      "num1은 0보다 크고 num2는 1보다 크다.\n",
      "num1은 0보다 크다 그리고 num2는 1보다 크다.\n"
     ]
    }
   ],
   "source": [
    "# if\n",
    "num1, num2 = 1, 2\n",
    "if num1 > 0:\n",
    "    print('num1은 0 보다 크다')\n",
    "    \n",
    "    if num1 > num2:\n",
    "        print('num1은 num2 보다 크다.')\n",
    "        \n",
    "    if num1 > 0:\n",
    "        if num2 > 1:\n",
    "            print('num1은 0보다 크고 num2는 1보다 크다.')\n",
    "    \n",
    "    if num1 > 0 and num2 > 1:\n",
    "        print('num1은 0보다 크다 그리고 num2는 1보다 크다.')\n",
    "            \n",
    "                "
   ]
  },
  {
   "cell_type": "code",
   "execution_count": 5,
   "metadata": {},
   "outputs": [
    {
     "name": "stdout",
     "output_type": "stream",
     "text": [
      "num3가 num4보다 작다.\n"
     ]
    }
   ],
   "source": [
    "# if ~ else\n",
    "num3, num4 = 3, 4\n",
    "if num3 > num4:\n",
    "    print('num3가 num4보다 크다.')\n",
    "else:\n",
    "    print('num3가 num4보다 작다.')"
   ]
  },
  {
   "cell_type": "code",
   "execution_count": 1,
   "metadata": {},
   "outputs": [
    {
     "name": "stdout",
     "output_type": "stream",
     "text": [
      "num1은 num2 보다 작다.\n"
     ]
    }
   ],
   "source": [
    "# if ~ elif ~ else\n",
    "num1, num2, num3, num4 = 1, 2, 3, 4\n",
    "if num1 > num2:\n",
    "    print('num1은 num2 보다 크다.')\n",
    "elif num2 > num1:\n",
    "    print('num1은 num2 보다 작다.')\n",
    "elif num3 > num4:\n",
    "    print('num3은 num4 보다 크다.')\n",
    "else:\n",
    "    print('num4가 가장 크다.')\n"
   ]
  },
  {
   "cell_type": "code",
   "execution_count": 11,
   "metadata": {},
   "outputs": [
    {
     "name": "stdout",
     "output_type": "stream",
     "text": [
      "D 입니다.\n"
     ]
    }
   ],
   "source": [
    "# 연습문제\n",
    "score = int(input('점수입력 :'))\n",
    "if score >= 90:\n",
    "    print('A 입니다.')\n",
    "elif 90 > score >= 80:\n",
    "    print('B 입니다.')\n",
    "elif score >= 70:\n",
    "    print('C 입니다.')\n",
    "elif score > 60:\n",
    "    print('D 입니다.')\n",
    "else:\n",
    "    print('F 입니다.')"
   ]
  }
 ],
 "metadata": {
  "kernelspec": {
   "display_name": "Python 3",
   "language": "python",
   "name": "python3"
  },
  "language_info": {
   "codemirror_mode": {
    "name": "ipython",
    "version": 3
   },
   "file_extension": ".py",
   "mimetype": "text/x-python",
   "name": "python",
   "nbconvert_exporter": "python",
   "pygments_lexer": "ipython3",
   "version": "3.11.1 (tags/v3.11.1:a7a450f, Dec  6 2022, 19:58:39) [MSC v.1934 64 bit (AMD64)]"
  },
  "orig_nbformat": 4,
  "vscode": {
   "interpreter": {
    "hash": "ca3167030a8377a7b82d5e665b459d458267ba920e721652be188ae573e682bb"
   }
  }
 },
 "nbformat": 4,
 "nbformat_minor": 2
}
