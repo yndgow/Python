{
 "cells": [
  {
   "cell_type": "code",
   "execution_count": 4,
   "metadata": {},
   "outputs": [
    {
     "data": {
      "text/plain": [
       "'\\n날짜 : 2023/01/03\\n이름 : 김지홍\\n내용 : 파이썬 문자열 실습하기\\n'"
      ]
     },
     "execution_count": 4,
     "metadata": {},
     "output_type": "execute_result"
    }
   ],
   "source": [
    "\"\"\"\n",
    "날짜 : 2023/01/03\n",
    "이름 : 김지홍\n",
    "내용 : 파이썬 문자열 실습하기\n",
    "\"\"\""
   ]
  },
  {
   "cell_type": "code",
   "execution_count": 3,
   "metadata": {},
   "outputs": [
    {
     "name": "stdout",
     "output_type": "stream",
     "text": [
      "HelloPython\n"
     ]
    }
   ],
   "source": [
    "# 문자열 더하기\n",
    "str1 = 'Hello'\n",
    "str2 = 'Python'\n",
    "str3 = str1 + str2\n",
    "print(str3)"
   ]
  },
  {
   "cell_type": "code",
   "execution_count": 20,
   "metadata": {},
   "outputs": [
    {
     "data": {
      "text/plain": [
       "'HelloHelloHello'"
      ]
     },
     "execution_count": 20,
     "metadata": {},
     "output_type": "execute_result"
    }
   ],
   "source": [
    "# 문자열 곱하기\n",
    "hello = 'Hello'\n",
    "result = hello * 3\n",
    "result"
   ]
  },
  {
   "cell_type": "code",
   "execution_count": 25,
   "metadata": {},
   "outputs": [
    {
     "data": {
      "text/plain": [
       "11"
      ]
     },
     "execution_count": 25,
     "metadata": {},
     "output_type": "execute_result"
    }
   ],
   "source": [
    "# 문자열 길이\n",
    "text = 'Hello World'\n",
    "result = len(text)\n",
    "result"
   ]
  },
  {
   "cell_type": "code",
   "execution_count": 27,
   "metadata": {},
   "outputs": [
    {
     "name": "stdout",
     "output_type": "stream",
     "text": [
      "text 1번째 문자 :  H\n",
      "text 7번째 문자 :  W\n",
      "text -1번째 문자 :  d\n"
     ]
    }
   ],
   "source": [
    "# 문자열 인덱스\n",
    "text = 'Hello World'\n",
    "print('text 1번째 문자 : ', text[0])\n",
    "print('text 7번째 문자 : ', text[6])\n",
    "print('text -1번째 문자 : ', text[-1])"
   ]
  },
  {
   "cell_type": "code",
   "execution_count": 30,
   "metadata": {},
   "outputs": [
    {
     "name": "stdout",
     "output_type": "stream",
     "text": [
      "text 0-5 자르기 : Hello\n",
      "text 처음-5 자르기 : Hello\n",
      "text 6-11 자르기 : World\n",
      "text 6-마지막 자르기 : World\n"
     ]
    }
   ],
   "source": [
    "# 문자열 자르기\n",
    "text = 'Hello World'\n",
    "print('text 0-5 자르기 :', text[0:5])\n",
    "print('text 처음-5 자르기 :', text[:5])\n",
    "print('text 6-11 자르기 :', text[6:11])\n",
    "print('text 6-마지막 자르기 :', text[6:])\n"
   ]
  },
  {
   "cell_type": "code",
   "execution_count": 33,
   "metadata": {},
   "outputs": [
    {
     "data": {
      "text/plain": [
       "('서울', '대전', '대구', '부산', '광주')"
      ]
     },
     "execution_count": 33,
     "metadata": {},
     "output_type": "execute_result"
    }
   ],
   "source": [
    "# 문자열 분리\n",
    "cities = '서울^대전^대구^부산^광주'\n",
    "c1, c2, c3, c4, c5 = cities.split('^')\n",
    "c1, c2, c3, c4, c5\n"
   ]
  },
  {
   "cell_type": "code",
   "execution_count": 35,
   "metadata": {},
   "outputs": [
    {
     "name": "stdout",
     "output_type": "stream",
     "text": [
      "서울\n",
      "대전\n",
      "대구\n",
      "부산\n",
      "광주\n",
      "한국\t미국\t일본\t중국\n",
      "안녕하세요, '홍길동'님 반갑습니다.\n"
     ]
    }
   ],
   "source": [
    "# 문자열 이스케이프\n",
    "print('서울\\n대전\\n대구\\n부산\\n광주')\n",
    "print('한국\\t미국\\t일본\\t중국')\n",
    "print(\"안녕하세요, '홍길동'님 반갑습니다.\")"
   ]
  }
 ],
 "metadata": {
  "kernelspec": {
   "display_name": "Python 3",
   "language": "python",
   "name": "python3"
  },
  "language_info": {
   "codemirror_mode": {
    "name": "ipython",
    "version": 3
   },
   "file_extension": ".py",
   "mimetype": "text/x-python",
   "name": "python",
   "nbconvert_exporter": "python",
   "pygments_lexer": "ipython3",
   "version": "3.11.1 (tags/v3.11.1:a7a450f, Dec  6 2022, 19:58:39) [MSC v.1934 64 bit (AMD64)]"
  },
  "orig_nbformat": 4,
  "vscode": {
   "interpreter": {
    "hash": "ca3167030a8377a7b82d5e665b459d458267ba920e721652be188ae573e682bb"
   }
  }
 },
 "nbformat": 4,
 "nbformat_minor": 2
}
