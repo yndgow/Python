{
 "cells": [
  {
   "attachments": {},
   "cell_type": "markdown",
   "metadata": {},
   "source": [
    "\"\"\"\n",
    "날짜 : 2023/01/09\n",
    "이름 : 김지홍\n",
    "내용 : 파이썬 리스트 실습하기\n",
    "\"\"\"\n"
   ]
  },
  {
   "cell_type": "code",
   "execution_count": null,
   "metadata": {},
   "outputs": [],
   "source": [
    "# 리스트\n",
    "list1 = [1,2,3,4,5]\n",
    "print('list1 type : ', type(list1))\n",
    "print('list1[0] : ', list1[0])\n",
    "print('list1[2] : ', list1[2])\n",
    "print('list1[3] : ', list1[3])\n"
   ]
  },
  {
   "cell_type": "code",
   "execution_count": null,
   "metadata": {},
   "outputs": [],
   "source": [
    "# 다양한 자료형을 갖는 리스트\n",
    "list2 = [1, 3.14, True, 'Apple']\n",
    "print('list2 type : ', type(list2))\n",
    "print('list2[0] : ', list2[0])\n",
    "print('list2[1] : ', list2[1])\n",
    "print('list2[2] : ', list2[2])\n",
    "print('list2[3] : ', list2[3])"
   ]
  },
  {
   "cell_type": "code",
   "execution_count": null,
   "metadata": {},
   "outputs": [],
   "source": [
    "# 다차원 리스트\n",
    "dataset = [[1,2,3],[4,5,6],[7,8,9]]\n",
    "print('dataset[0][0] : ', dataset[0][0])\n",
    "print('dataset[1][0] : ', dataset[1][0])\n",
    "print('dataset[2][1] : ', dataset[2][1])"
   ]
  },
  {
   "cell_type": "code",
   "execution_count": null,
   "metadata": {},
   "outputs": [],
   "source": [
    "# 리스트 수정, 추가, 삭제\n",
    "dataset = [1,2,3,4,5]\n",
    "dataset[1] = 6\n",
    "print('dataset : ', dataset)\n",
    "dataset[2:4] = [7,8,9]\n",
    "print('dataset : ', dataset)\n",
    "dataset[3:5] = []\n",
    "print('dataset : ', dataset)"
   ]
  },
  {
   "cell_type": "code",
   "execution_count": null,
   "metadata": {},
   "outputs": [],
   "source": [
    "# 리스트 반복문\n",
    "for i in [1,2,3,4,5]:\n",
    "    print('i : ', i)\n",
    "cities = ['서울', '대전', '대구', '부산', '광주', '제주']\n",
    "for city in cities:\n",
    "    print('city : ', city)\n",
    "for index, value in enumerate(cities):\n",
    "    print('cities[%d] : %s' % (index, value))"
   ]
  },
  {
   "cell_type": "code",
   "execution_count": null,
   "metadata": {},
   "outputs": [],
   "source": [
    "# 리스트 Comprehension\n",
    "data = [1,2,3,4,5]\n",
    "rs1 = [num * 2 for num in data]\n",
    "rs2 = [num * 3 for num in data if num % 2 == 1]\n",
    "print(rs1)\n",
    "print(rs2)"
   ]
  }
 ],
 "metadata": {
  "kernelspec": {
   "display_name": "Python 3",
   "language": "python",
   "name": "python3"
  },
  "language_info": {
   "codemirror_mode": {
    "name": "ipython",
    "version": 3
   },
   "file_extension": ".py",
   "mimetype": "text/x-python",
   "name": "python",
   "nbconvert_exporter": "python",
   "pygments_lexer": "ipython3",
   "version": "3.11.1"
  },
  "orig_nbformat": 4,
  "vscode": {
   "interpreter": {
    "hash": "ca3167030a8377a7b82d5e665b459d458267ba920e721652be188ae573e682bb"
   }
  }
 },
 "nbformat": 4,
 "nbformat_minor": 2
}
