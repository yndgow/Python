{
 "cells": [
  {
   "attachments": {},
   "cell_type": "markdown",
   "metadata": {},
   "source": [
    "\"\"\"\n",
    "날짜 : 2023/01/09\n",
    "이름 : 김지홍\n",
    "내용 : 파이썬 Set 실습하기\n",
    "\"\"\""
   ]
  },
  {
   "cell_type": "code",
   "execution_count": null,
   "metadata": {},
   "outputs": [],
   "source": [
    "#Set\n",
    "dataset = {1,2,3,4,5,3,2}\n",
    "print('dataset type : ', type(dataset))\n",
    "print('dataset : ', dataset)"
   ]
  },
  {
   "cell_type": "code",
   "execution_count": null,
   "metadata": {},
   "outputs": [],
   "source": [
    "# 집합 반복문\n",
    "dataset = {1,2,3,4,5,3,2}\n",
    "for data in dataset:\n",
    "    print('data : ', data)\n",
    "    "
   ]
  },
  {
   "cell_type": "code",
   "execution_count": null,
   "metadata": {},
   "outputs": [],
   "source": [
    "# 집합을 리스트 변환\n",
    "dataset = {1,2,3,4,5,3,2}\n",
    "listSet = list(dataset)\n",
    "\n",
    "print('listSet : ', listSet)\n",
    "print('listSet[0] : ', listSet[0])\n",
    "print('listSet[2] : ', listSet[2])\n",
    "print('listSet[3] : ', listSet[3])"
   ]
  }
 ],
 "metadata": {
  "kernelspec": {
   "display_name": "Python 3",
   "language": "python",
   "name": "python3"
  },
  "language_info": {
   "codemirror_mode": {
    "name": "ipython",
    "version": 3
   },
   "file_extension": ".py",
   "mimetype": "text/x-python",
   "name": "python",
   "nbconvert_exporter": "python",
   "pygments_lexer": "ipython3",
   "version": "3.11.1"
  },
  "orig_nbformat": 4,
  "vscode": {
   "interpreter": {
    "hash": "ca3167030a8377a7b82d5e665b459d458267ba920e721652be188ae573e682bb"
   }
  }
 },
 "nbformat": 4,
 "nbformat_minor": 2
}
