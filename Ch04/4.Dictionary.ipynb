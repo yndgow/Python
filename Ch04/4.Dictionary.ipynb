{
 "cells": [
  {
   "attachments": {},
   "cell_type": "markdown",
   "metadata": {},
   "source": [
    "\"\"\"\n",
    "날짜 : 2023/01/09\n",
    "이름 : 김지홍\n",
    "내용 : 파이썬 Dictionary 실습하기\n",
    "\"\"\""
   ]
  },
  {
   "cell_type": "code",
   "execution_count": null,
   "metadata": {},
   "outputs": [],
   "source": [
    "# Dictionary\n",
    "dataset = {'A':'Apple', 'B':'banana', 'C':'Cherry', 'T':'Tomato'}\n",
    "print('dataset type : ', type(dataset))\n",
    "print('dataset : ', dataset)\n",
    "print(\"dataset['A'] : \", dataset['A'])\n",
    "print(\"dataset['B'] : \", dataset['B'])\n",
    "print(\"dataset['C'] : \", dataset['C'])\n",
    "print(\"dataset['T'] : \", dataset['T'])"
   ]
  },
  {
   "cell_type": "code",
   "execution_count": null,
   "metadata": {},
   "outputs": [],
   "source": [
    "# Dictionary 활용\n",
    "dataset = {\n",
    "    101:[1,2,3,4,5],\n",
    "    102:(6,7,8,9),\n",
    "    103:{'서울','대전','대구','부산','광주'},\n",
    "    104:{'p1':'김유신', 'p2':'김춘추', 'p3':'장보고'}\n",
    "}\n",
    "print(dataset[101][2])\n",
    "print(dataset[102][1])\n",
    "print(list(dataset[103])[3])\n",
    "print(dataset[104]['p2'])\n"
   ]
  },
  {
   "cell_type": "code",
   "execution_count": null,
   "metadata": {},
   "outputs": [],
   "source": [
    "# Dictionary 반복문\n",
    "dataset = {1:'서울', 2:'대전', 3:'대구', 4:'부산', 5:'광주'}\n",
    "for k, v in dataset.items():\n",
    "    print(k,v)"
   ]
  }
 ],
 "metadata": {
  "kernelspec": {
   "display_name": "Python 3",
   "language": "python",
   "name": "python3"
  },
  "language_info": {
   "codemirror_mode": {
    "name": "ipython",
    "version": 3
   },
   "file_extension": ".py",
   "mimetype": "text/x-python",
   "name": "python",
   "nbconvert_exporter": "python",
   "pygments_lexer": "ipython3",
   "version": "3.11.1"
  },
  "orig_nbformat": 4,
  "vscode": {
   "interpreter": {
    "hash": "ca3167030a8377a7b82d5e665b459d458267ba920e721652be188ae573e682bb"
   }
  }
 },
 "nbformat": 4,
 "nbformat_minor": 2
}
