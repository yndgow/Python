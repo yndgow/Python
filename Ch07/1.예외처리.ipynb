{
 "cells": [
  {
   "attachments": {},
   "cell_type": "markdown",
   "metadata": {},
   "source": [
    "\"\"\"\n",
    "날짜 : 2023/01/12\n",
    "이름 : 김지홍\n",
    "내용 : 파이썬 예외처리 실습하기\n",
    "\"\"\""
   ]
  },
  {
   "cell_type": "code",
   "execution_count": 5,
   "metadata": {},
   "outputs": [
    {
     "name": "stdout",
     "output_type": "stream",
     "text": [
      "에러발생...\n",
      "r1 :  1\n",
      "r2 :  1\n",
      "r3 :  0\n",
      "r4 :  0\n"
     ]
    }
   ],
   "source": [
    "# try ~ except\n",
    "num1, num2, = 1, 0\n",
    "r1 = r2 = r3 = r4 = 0\n",
    "try:\n",
    "    r1 = num1 + num2\n",
    "    r2 = num1 - num2\n",
    "    r3 = num1 * num2\n",
    "    r4 = num1 / num2\n",
    "except:\n",
    "    print('에러발생...')\n",
    "\n",
    "print('r1 : ', r1)\n",
    "print('r2 : ', r2)\n",
    "print('r3 : ', r3)\n",
    "print('r4 : ', r4)"
   ]
  },
  {
   "cell_type": "code",
   "execution_count": 7,
   "metadata": {},
   "outputs": [
    {
     "name": "stdout",
     "output_type": "stream",
     "text": [
      "에러 내용 :  'builtin_function_or_method' object is not subscriptable\n",
      "예외처리 완료...\n"
     ]
    }
   ],
   "source": [
    "# try ~ except ~ finally\n",
    "cities = ['서울', '대전', '대구', '부산', '광주']\n",
    "\n",
    "try:\n",
    "    for i in range(10):\n",
    "        print[cities[i]]\n",
    "except Exception as e:\n",
    "    print('에러 내용 : ', e)\n",
    "finally:\n",
    "    print('예외처리 완료...')"
   ]
  },
  {
   "cell_type": "code",
   "execution_count": 12,
   "metadata": {},
   "outputs": [
    {
     "name": "stdout",
     "output_type": "stream",
     "text": [
      "1~5를 선택하세요.(0:whdfy\n",
      "선택한 도시는 대전입니다.\n",
      "1~5를 선택하세요.(0:whdfy\n"
     ]
    }
   ],
   "source": [
    "# try ~ except ~ else\n",
    "cities = ['서울', '대전', '대구', '부산', '광주']\n",
    "result = None\n",
    "while True:\n",
    "    try:\n",
    "        print('1~5를 선택하세요.(0:종료)')\n",
    "        answer = int(input('선택 : '))\n",
    "        \n",
    "        if answer == 0:\n",
    "            break\n",
    "        \n",
    "        result = cities[answer-1]\n",
    "        \n",
    "    except Exception as e:\n",
    "        print('1 ~ 5까지만 입력하세요')\n",
    "        print('에러 내용 : ', e)\n",
    "    else:\n",
    "        print('선택한 도시는 {}입니다.'.format(result))"
   ]
  }
 ],
 "metadata": {
  "kernelspec": {
   "display_name": "Python 3",
   "language": "python",
   "name": "python3"
  },
  "language_info": {
   "codemirror_mode": {
    "name": "ipython",
    "version": 3
   },
   "file_extension": ".py",
   "mimetype": "text/x-python",
   "name": "python",
   "nbconvert_exporter": "python",
   "pygments_lexer": "ipython3",
   "version": "3.11.1"
  },
  "orig_nbformat": 4,
  "vscode": {
   "interpreter": {
    "hash": "ca3167030a8377a7b82d5e665b459d458267ba920e721652be188ae573e682bb"
   }
  }
 },
 "nbformat": 4,
 "nbformat_minor": 2
}
