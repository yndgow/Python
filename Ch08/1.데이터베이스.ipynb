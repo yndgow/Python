{
 "cells": [
  {
   "attachments": {},
   "cell_type": "markdown",
   "metadata": {},
   "source": [
    "날짜 : 2023/01/13\n",
    "이름 : 김지홍\n",
    "내용 : 파이썬 데이터베이스 실습하기"
   ]
  },
  {
   "cell_type": "code",
   "execution_count": 1,
   "metadata": {},
   "outputs": [],
   "source": [
    "import pymysql"
   ]
  },
  {
   "cell_type": "code",
   "execution_count": null,
   "metadata": {},
   "outputs": [],
   "source": [
    "# Insert 실습\n",
    "conn = pymysql.connect(host='127.0.0.1',\n",
    "                user='root',\n",
    "                passwd='1234',\n",
    "                db='java1db')\n",
    "\n",
    "# SQL 실행객체\n",
    "cur = conn.cursor()\n",
    "\n",
    "# SQL 실행\n",
    "sql = \"insert into `user1` values ('p101','1234','강감찬','010-0000-1005',25)\"\n",
    "cur.execute(sql)\n",
    "conn.commit()\n",
    "\n",
    "# 데이터베이스 종료\n",
    "conn.close()\n",
    "print('insert 완료...')\n"
   ]
  },
  {
   "cell_type": "code",
   "execution_count": null,
   "metadata": {},
   "outputs": [],
   "source": [
    "# Update 실습\n",
    "conn = pymysql.connect(host='127.0.0.1',\n",
    "                user='root',\n",
    "                passwd='1234',\n",
    "                db='java1db')\n",
    "\n",
    "# SQL 실행객체\n",
    "cur = conn.cursor()\n",
    "\n",
    "# SQL 실행\n",
    "sql = \"update user1 set uid='z101' where uid = 'z1013'\"\n",
    "cur.execute(sql)\n",
    "conn.commit()\n",
    "\n",
    "# 데이터베이스 종료\n",
    "conn.close()\n",
    "print('update 완료...')"
   ]
  },
  {
   "cell_type": "code",
   "execution_count": null,
   "metadata": {},
   "outputs": [],
   "source": [
    "# Delete 실습\n",
    "conn = pymysql.connect(host='127.0.0.1',\n",
    "                user='root',\n",
    "                passwd='1234',\n",
    "                db='java1db')\n",
    "\n",
    "# SQL 실행객체\n",
    "cur = conn.cursor()\n",
    "\n",
    "# SQL 실행\n",
    "sql = \"delete from user1 where uid = 'p101'\"\n",
    "cur.execute(sql)\n",
    "conn.commit()\n",
    "\n",
    "# 데이터베이스 종료\n",
    "conn.close()\n",
    "print('delete 완료...')"
   ]
  },
  {
   "cell_type": "code",
   "execution_count": null,
   "metadata": {},
   "outputs": [],
   "source": [
    "# Select 실습\n",
    "conn = pymysql.connect(host='127.0.0.1',\n",
    "                user='root',\n",
    "                passwd='1234',\n",
    "                db='java1db')\n",
    "\n",
    "# SQL 실행객체\n",
    "cur = conn.cursor()\n",
    "sql = 'select * from user1'\n",
    "cur.execute(sql)\n",
    "conn.commit()\n",
    "\n",
    "# 데이터 출력\n",
    "user = []\n",
    "for row in cur.fetchall():\n",
    "    print('------------')\n",
    "    print('아이디 : ', row[0], end=' ')\n",
    "    print('비밀번호 : ', row[1], end=' ')\n",
    "    print('이름 : ', row[2], end=' ')\n",
    "    print('휴대폰 : ', row[3], end=' ')\n",
    "    print('나이 : ', row[4])\n",
    "    \n",
    "    \n",
    "conn.close()\n",
    "print('select 완료...')"
   ]
  }
 ],
 "metadata": {
  "kernelspec": {
   "display_name": "Python 3",
   "language": "python",
   "name": "python3"
  },
  "language_info": {
   "codemirror_mode": {
    "name": "ipython",
    "version": 3
   },
   "file_extension": ".py",
   "mimetype": "text/x-python",
   "name": "python",
   "nbconvert_exporter": "python",
   "pygments_lexer": "ipython3",
   "version": "3.11.1 (tags/v3.11.1:a7a450f, Dec  6 2022, 19:58:39) [MSC v.1934 64 bit (AMD64)]"
  },
  "orig_nbformat": 4,
  "vscode": {
   "interpreter": {
    "hash": "ca3167030a8377a7b82d5e665b459d458267ba920e721652be188ae573e682bb"
   }
  }
 },
 "nbformat": 4,
 "nbformat_minor": 2
}
